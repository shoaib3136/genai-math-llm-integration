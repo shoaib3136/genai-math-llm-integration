{
 "cells": [
  {
   "cell_type": "code",
   "execution_count": 1,
   "id": "cb8b01dc",
   "metadata": {
    "height": 116
   },
   "outputs": [],
   "source": [
    "import os\n",
    "import openai\n",
    "\n",
    "from dotenv import load_dotenv, find_dotenv\n",
    "_ = load_dotenv(find_dotenv()) # read local .env file\n",
    "openai.api_key = os.environ['OPENAI_API_KEY']"
   ]
  },
  {
   "cell_type": "code",
   "execution_count": 57,
   "id": "c83708a3",
   "metadata": {
    "height": 235
   },
   "outputs": [],
   "source": [
    "import json\n",
    "import math\n",
    "# Example dummy function hard coded to return the same weather\n",
    "# In production, this could be your backend API or an external API\n",
    "def volume_of_cylinder(radius, height, unit=\"meter\"):\n",
    "    volume = math.pi * (radius * radius) * height\n",
    "    cylinder_info = {\n",
    "        \"radius\": radius,\n",
    "        \"height\": height,\n",
    "        \"volume\": volume,\n",
    "        \"unit\": unit\n",
    "    }\n",
    "    return json.dumps(cylinder_info)"
   ]
  },
  {
   "cell_type": "code",
   "execution_count": 58,
   "id": "0aeb9d20",
   "metadata": {
    "height": 31
   },
   "outputs": [
    {
     "name": "stdout",
     "output_type": "stream",
     "text": [
      "{\"radius\": 1, \"height\": 2, \"volume\": 6.283185307179586, \"unit\": \"meter\"}\n"
     ]
    }
   ],
   "source": [
    "print(volume_of_cylinder(1,2))"
   ]
  },
  {
   "cell_type": "code",
   "execution_count": 59,
   "id": "6e66e1ef",
   "metadata": {
    "height": 457
   },
   "outputs": [],
   "source": [
    "functions = [\n",
    "    {\n",
    "        \"name\": \"volume_of_cylinder\",\n",
    "        \"description\": \"Calculates the volume of a cylinder.\",\n",
    "        \"parameters\": {\n",
    "            \"type\": \"object\",\n",
    "            \"properties\": {\n",
    "                \"radius\": {\n",
    "                    \"type\": \"integer\",\n",
    "                    \"description\": \"Radius of the cylinder.\",\n",
    "                },\n",
    "                \"height\": {\n",
    "                    \"type\": \"integer\",\n",
    "                    \"description\": \"Height of the cylinder.\",\n",
    "                },\n",
    "                \"unit\": {\n",
    "                    \"type\": \"string\",\n",
    "                    \"enum\": [\"meter\", \"centimeter\"],\n",
    "                    \"description\": \"Unit of measurement (meter or centimeter).\",\n",
    "                },\n",
    "            },\n",
    "            \"required\": [\"radius\", \"height\"],\n",
    "        },\n",
    "    }\n",
    "]\n"
   ]
  },
  {
   "cell_type": "code",
   "execution_count": 71,
   "id": "b08e9760",
   "metadata": {
    "height": 116
   },
   "outputs": [
    {
     "name": "stdout",
     "output_type": "stream",
     "text": [
      "Enter the radius of the cylinder (in meters): 1\n",
      "Enter the height of the cylinder (in meters): 2\n"
     ]
    }
   ],
   "source": [
    "radius = float(input(\"Enter the radius of the cylinder (in meters): \"))\n",
    "height = float(input(\"Enter the height of the cylinder (in meters): \"))\n",
    "\n",
    "messages = [\n",
    "    {\n",
    "        \"role\": \"user\",\n",
    "        \"content\": f\"Calculate the volume of a cylinder with radius {radius} meters and height {height} meters.\"\n",
    "    }\n",
    "]"
   ]
  },
  {
   "cell_type": "code",
   "execution_count": 72,
   "id": "980d1fee",
   "metadata": {
    "height": 31
   },
   "outputs": [],
   "source": [
    "import openai"
   ]
  },
  {
   "cell_type": "code",
   "execution_count": 73,
   "id": "69fcc5c3",
   "metadata": {
    "height": 133
   },
   "outputs": [],
   "source": [
    "response = openai.ChatCompletion.create(\n",
    "    model=\"gpt-3.5-turbo\",\n",
    "    messages=messages,\n",
    "    functions=functions,  # Use 'functions' for function calling\n",
    "    function_call={\"name\": \"volume_of_cylinder\"}  # Allows automatic function calling\n",
    ")\n"
   ]
  },
  {
   "cell_type": "code",
   "execution_count": 74,
   "id": "24fbd5ad",
   "metadata": {
    "height": 31
   },
   "outputs": [
    {
     "name": "stdout",
     "output_type": "stream",
     "text": [
      "{\n",
      "  \"id\": \"chatcmpl-BDmPk1jS3vXENlXkTGpDccPbrE3X0\",\n",
      "  \"object\": \"chat.completion\",\n",
      "  \"created\": 1742624068,\n",
      "  \"model\": \"gpt-3.5-turbo-0125\",\n",
      "  \"choices\": [\n",
      "    {\n",
      "      \"index\": 0,\n",
      "      \"message\": {\n",
      "        \"role\": \"assistant\",\n",
      "        \"content\": null,\n",
      "        \"function_call\": {\n",
      "          \"name\": \"volume_of_cylinder\",\n",
      "          \"arguments\": \"{\\\"radius\\\":1,\\\"height\\\":2,\\\"unit\\\":\\\"meter\\\"}\"\n",
      "        },\n",
      "        \"refusal\": null,\n",
      "        \"annotations\": []\n",
      "      },\n",
      "      \"logprobs\": null,\n",
      "      \"finish_reason\": \"stop\"\n",
      "    }\n",
      "  ],\n",
      "  \"usage\": {\n",
      "    \"prompt_tokens\": 116,\n",
      "    \"completion_tokens\": 14,\n",
      "    \"total_tokens\": 130,\n",
      "    \"prompt_tokens_details\": {\n",
      "      \"cached_tokens\": 0,\n",
      "      \"audio_tokens\": 0\n",
      "    },\n",
      "    \"completion_tokens_details\": {\n",
      "      \"reasoning_tokens\": 0,\n",
      "      \"audio_tokens\": 0,\n",
      "      \"accepted_prediction_tokens\": 0,\n",
      "      \"rejected_prediction_tokens\": 0\n",
      "    }\n",
      "  },\n",
      "  \"service_tier\": \"default\",\n",
      "  \"system_fingerprint\": null\n",
      "}\n"
     ]
    }
   ],
   "source": [
    "print(response)"
   ]
  },
  {
   "cell_type": "code",
   "execution_count": 75,
   "id": "d6f0c512",
   "metadata": {
    "height": 133
   },
   "outputs": [
    {
     "name": "stdout",
     "output_type": "stream",
     "text": [
      "Function Call: {\n",
      "  \"name\": \"volume_of_cylinder\",\n",
      "  \"arguments\": \"{\\\"radius\\\":1,\\\"height\\\":2,\\\"unit\\\":\\\"meter\\\"}\"\n",
      "}\n"
     ]
    }
   ],
   "source": [
    "response_message = response[\"choices\"][0][\"message\"]\n",
    "\n",
    "if \"function_call\" in response_message:\n",
    "    function_call = response_message[\"function_call\"]\n",
    "    print(\"Function Call:\", function_call)\n",
    "else:\n",
    "    print(\"No function call. Assistant responded with text:\", response_message[\"content\"])"
   ]
  },
  {
   "cell_type": "code",
   "execution_count": 76,
   "id": "f1ba738f",
   "metadata": {
    "height": 31
   },
   "outputs": [
    {
     "data": {
      "text/plain": [
       "<OpenAIObject at 0x7f9a3b59a400> JSON: {\n",
       "  \"role\": \"assistant\",\n",
       "  \"content\": null,\n",
       "  \"function_call\": {\n",
       "    \"name\": \"volume_of_cylinder\",\n",
       "    \"arguments\": \"{\\\"radius\\\":1,\\\"height\\\":2,\\\"unit\\\":\\\"meter\\\"}\"\n",
       "  },\n",
       "  \"refusal\": null,\n",
       "  \"annotations\": []\n",
       "}"
      ]
     },
     "execution_count": 76,
     "metadata": {},
     "output_type": "execute_result"
    }
   ],
   "source": [
    "response_message"
   ]
  },
  {
   "cell_type": "code",
   "execution_count": 77,
   "id": "d36dd46b",
   "metadata": {
    "height": 31
   },
   "outputs": [],
   "source": [
    "response_message[\"content\"]"
   ]
  },
  {
   "cell_type": "code",
   "execution_count": 78,
   "id": "ea770cb5",
   "metadata": {
    "height": 31
   },
   "outputs": [
    {
     "data": {
      "text/plain": [
       "<OpenAIObject at 0x7f9a3b6274a0> JSON: {\n",
       "  \"name\": \"volume_of_cylinder\",\n",
       "  \"arguments\": \"{\\\"radius\\\":1,\\\"height\\\":2,\\\"unit\\\":\\\"meter\\\"}\"\n",
       "}"
      ]
     },
     "execution_count": 78,
     "metadata": {},
     "output_type": "execute_result"
    }
   ],
   "source": [
    "response_message[\"function_call\"]"
   ]
  },
  {
   "cell_type": "code",
   "execution_count": null,
   "id": "33e45ed5",
   "metadata": {
    "height": 235
   },
   "outputs": [],
   "source": [
    "args = json.loads(response[\"choices\"][0][\"message\"].get(\"function_call\", {}).get(\"arguments\", \"{}\"))\n",
    "\n",
    "# If API response doesn't provide values, ask the user for input\n",
    "if not args:\n",
    "    radius = float(input(\"Enter radius: \"))\n",
    "    height = float(input(\"Enter height: \"))\n",
    "    unit = input(\"Enter unit (default is meter): \") or \"meter\"\n",
    "    args = {\"radius\": radius, \"height\": height, \"unit\": unit}\n",
    "\n",
    "# Pass unpacked dictionary to the function\n",
    "observation = volume_of_cylinder(**args)\n",
    "\n",
    "print(\"Cylinder Volume Data:\", observation)"
   ]
  },
  {
   "cell_type": "code",
   "execution_count": null,
   "id": "4cb8d8eb",
   "metadata": {
    "height": 31
   },
   "outputs": [],
   "source": []
  },
  {
   "cell_type": "code",
   "execution_count": null,
   "id": "06776714",
   "metadata": {
    "height": 31
   },
   "outputs": [],
   "source": []
  }
 ],
 "metadata": {
  "kernelspec": {
   "display_name": "Python 3 (ipykernel)",
   "language": "python",
   "name": "python3"
  },
  "language_info": {
   "codemirror_mode": {
    "name": "ipython",
    "version": 3
   },
   "file_extension": ".py",
   "mimetype": "text/x-python",
   "name": "python",
   "nbconvert_exporter": "python",
   "pygments_lexer": "ipython3",
   "version": "3.9.19"
  }
 },
 "nbformat": 4,
 "nbformat_minor": 5
}
